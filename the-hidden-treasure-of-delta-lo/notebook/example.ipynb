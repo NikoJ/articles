{
 "cells": [
  {
   "cell_type": "markdown",
   "id": "7fb6009b",
   "metadata": {
    "vscode": {
     "languageId": "plaintext"
    }
   },
   "source": [
    "# Jupyter Notebook: [The Hidden Treasure of _delta_logֲֲֲֲ.](https://blog.devgenius.io/the-hidden-treasure-of-delta-log-482684efb36b)"
   ]
  },
  {
   "cell_type": "code",
   "execution_count": null,
   "id": "c552ae4c",
   "metadata": {
    "vscode": {
     "languageId": "plaintext"
    }
   },
   "outputs": [],
   "source": [
    "# 📘 Notebook: Unlocking `_delta_log` Metadata with Polars & Delta Lake\n",
    "\n",
    "## 1. Imports & Setup\n",
    "import polars as pl\n",
    "from deltalake import DeltaTable\n",
    "import os\n",
    "\n",
    "delta_path = \"./delta_table_example\"\n",
    "\n",
    "## 2. Initial Write\n",
    "# Create and write initial DataFrame into Delta\n",
    "df_initial = pl.DataFrame({\n",
    "    \"id\": [\"A\", \"B\", \"C\"],\n",
    "    \"value\": [10, 20, 30]\n",
    "})\n",
    "df_initial.write_delta(delta_path, mode=\"overwrite\")\n",
    "\n",
    "## 3. Append Additional Data\n",
    "df_new = pl.DataFrame({\n",
    "    \"id\": [\"D\", \"E\"],\n",
    "    \"value\": [40, 50]\n",
    "})\n",
    "df_new.write_delta(delta_path, mode=\"append\")\n",
    "\n",
    "## 4. Inspect `_delta_log` Files\n",
    "log_files = sorted(os.listdir(os.path.join(delta_path, \"_delta_log\")))\n",
    "print(\"Log files:\", log_files)\n",
    "\n",
    "## 5. Efficient Metadata-Driven Read\n",
    "# Load DeltaTable metadata\n",
    "dt = DeltaTable(delta_path)\n",
    "\n",
    "# Get version and added files metadata\n",
    "versions = dt.version()  # latest version number\n",
    "files = dt.files()\n",
    "print(\"Delta version:\", versions)\n",
    "print(\"Files in latest version:\", files)\n",
    "\n",
    "## 6. Point-in-Time Table Reads\n",
    "# Read specific version as Polars DataFrame\n",
    "for version in [0, versions]:\n",
    "    df_version = pl.read_delta(delta_path, version=version)\n",
    "    print(f\"\\nData at version={version}:\\n\", df_version)\n",
    "\n",
    "## 7. Partition Filtering via Metadata (if partitioned)\n",
    "# If table is partitioned, use dt.history() or dt.schema()\n",
    "schema = dt.schema()\n",
    "print(\"Table schema:\", schema)\n",
    "\n",
    "## 8. Lazy Scan with Snapshot\n",
    "ldf = pl.scan_delta(str(delta_path))\n",
    "print(\"\\nLazy scan (latest):\")\n",
    "print(ldf.collect())\n",
    "\n",
    "## 9. Putting It All Together in a Pipeline\n",
    "def load_version(path: str, version: int = None) -> pl.DataFrame:\n",
    "    dt = DeltaTable(path)\n",
    "    if version is None:\n",
    "        return pl.read_delta(path)\n",
    "    return pl.read_delta(path, version=version)\n",
    "\n",
    "# Example: compare row counts across versions\n",
    "df_v0 = load_version(delta_path, 0)\n",
    "df_v1 = load_version(delta_path)  # latest\n",
    "print(\"\\nRow counts:\", df_v0.height, df_v1.height)\n",
    "\n",
    "## 10. Summary & Insights\n",
    "print(\"\"\"\n",
    "✅ Utilize DeltaTable metadata to inspect `_delta_log` contents\n",
    "✅ Efficiently read specific versions with minimal I/O\n",
    "✅ Lazy scans reflect latest state without overhead\n",
    "\"\"\")\n"
   ]
  }
 ],
 "metadata": {
  "language_info": {
   "name": "python"
  }
 },
 "nbformat": 4,
 "nbformat_minor": 5
}
