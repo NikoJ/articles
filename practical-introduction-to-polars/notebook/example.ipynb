{
 "cells": [
  {
   "cell_type": "markdown",
   "id": "33148411",
   "metadata": {},
   "source": [
    "# Jupyter Notebook: [Practical Introduction to Polars.](https://medium.com/data-science/practical-introduction-to-polars-8d9cdca350f1)"
   ]
  },
  {
   "cell_type": "markdown",
   "id": "b1f42e9a",
   "metadata": {},
   "source": [
    "## Setup and Imports."
   ]
  },
  {
   "cell_type": "code",
   "execution_count": null,
   "id": "2f103d60",
   "metadata": {
    "vscode": {
     "languageId": "plaintext"
    }
   },
   "outputs": [],
   "source": [
    "from dataclasses import dataclass\n",
    "from datetime import datetime, timedelta\n",
    "from random import choice, gauss, randrange, seed\n",
    "from typing import Any, Dict\n",
    "\n",
    "import polars as pl\n",
    "import pandas as pd\n",
    "\n",
    "seed(42)"
   ]
  },
  {
   "cell_type": "markdown",
   "id": "c1b39fb7",
   "metadata": {},
   "source": [
    "## 1. Data Preparation and DataFrame Creation."
   ]
  },
  {
   "cell_type": "code",
   "execution_count": null,
   "id": "34f6b747",
   "metadata": {
    "vscode": {
     "languageId": "plaintext"
    }
   },
   "outputs": [],
   "source": [
    "base_time= datetime(2024, 8, 31, 0, 0, 0, 0)\n",
    "\n",
    "user_actions_data = [\n",
    "    {\n",
    "        \"OnlineStore\": choice([\"Shop1\", \"Shop2\", \"Shop3\"]),\n",
    "        \"product\": choice([\"0001\", \"0002\", \"0003\"]),\n",
    "        \"quantity\": choice([1.0, 2.0, 3.0]),\n",
    "        \"Action type\": (\"purchase\" if gauss() > 0.6 else \"view\"),\n",
    "        \"Action_time\": base_time - timedelta(minutes=randrange(1_000_000)),\n",
    "    }\n",
    "    for x in range(1_000_000)\n",
    "]\n",
    "\n",
    "corrupted_data = [\n",
    "    {\n",
    "        \"OnlineStore\": choice([\"Shop1\", \"Shop2\", \"Shop3\"]),\n",
    "        \"product\": choice([\"0001\", None]),\n",
    "        \"quantity\": choice([1.0, None]),\n",
    "        \"Action type\": (\"purchase\" if gauss() > 0.6 else \"view\"),\n",
    "        \"Action_time\": base_time - timedelta(minutes=randrange(1_000)),\n",
    "    }\n",
    "    for x in range(1_000)\n",
    "]\n",
    "\n",
    "product_catalog_data = {\"product_id\": [\"0001\", \"0002\", \"0003\"], \"price\": [100, 25, 80]}"
   ]
  },
  {
   "cell_type": "code",
   "execution_count": null,
   "id": "ed962d65",
   "metadata": {
    "vscode": {
     "languageId": "plaintext"
    }
   },
   "outputs": [],
   "source": [
    "# Pandas\n",
    "user_actions_pd_df = pd.DataFrame(user_actions_data)\n",
    "corrupted_pd_df = pd.DataFrame(corrupted_data)\n",
    "product_catalog_pd_df = pd.DataFrame(product_catalog_data)\n",
    "\n",
    "# Polars\n",
    "user_actions_pl_df = pl.DataFrame(user_actions_data)\n",
    "corrupted_pl_df = pl.DataFrame(corrupted_data)\n",
    "product_catalog_pl_df = pl.DataFrame(product_catalog_data)"
   ]
  },
  {
   "cell_type": "code",
   "execution_count": null,
   "id": "1a387b51",
   "metadata": {
    "vscode": {
     "languageId": "plaintext"
    }
   },
   "outputs": [],
   "source": [
    "# Pandas\n",
    "user_actions_pd_df = pd.concat([user_actions_pd_df, corrupted_pd_df])\n",
    "\n",
    "# Polars\n",
    "user_actions_pl_df = pl.concat([user_actions_pl_df, corrupted_pl_df])"
   ]
  },
  {
   "cell_type": "markdown",
   "id": "7e412986",
   "metadata": {},
   "source": [
    "## 2. Summary Statistics of the DataFrame."
   ]
  },
  {
   "cell_type": "code",
   "execution_count": null,
   "id": "2e45dbc6",
   "metadata": {
    "vscode": {
     "languageId": "plaintext"
    }
   },
   "outputs": [],
   "source": [
    "# Pandas\n",
    "user_actions_pd_df.describe(include='all')"
   ]
  },
  {
   "cell_type": "code",
   "execution_count": null,
   "id": "c8a321ed",
   "metadata": {
    "vscode": {
     "languageId": "plaintext"
    }
   },
   "outputs": [],
   "source": [
    "# Polars\n",
    "user_actions_pl_df.describe()"
   ]
  },
  {
   "cell_type": "markdown",
   "id": "16376452",
   "metadata": {},
   "source": [
    "## 3. Retrieving the First Five Records."
   ]
  },
  {
   "cell_type": "code",
   "execution_count": null,
   "id": "8605fad2",
   "metadata": {
    "vscode": {
     "languageId": "plaintext"
    }
   },
   "outputs": [],
   "source": [
    "# Pandas\n",
    "user_actions_pd_df.head()"
   ]
  },
  {
   "cell_type": "code",
   "execution_count": null,
   "id": "ae4dd99a",
   "metadata": {
    "vscode": {
     "languageId": "plaintext"
    }
   },
   "outputs": [],
   "source": [
    "# Polars\n",
    "user_actions_pl_df.head()"
   ]
  },
  {
   "cell_type": "code",
   "execution_count": null,
   "id": "7e6150e5",
   "metadata": {
    "vscode": {
     "languageId": "plaintext"
    }
   },
   "outputs": [],
   "source": [
    "# Polars\n",
    "user_actions_pl_df.glimpse(max_items_per_column=5)"
   ]
  },
  {
   "cell_type": "markdown",
   "id": "c2823844",
   "metadata": {},
   "source": [
    "## 4. Renaming Columns."
   ]
  },
  {
   "cell_type": "code",
   "execution_count": null,
   "id": "cd743dad",
   "metadata": {
    "vscode": {
     "languageId": "plaintext"
    }
   },
   "outputs": [],
   "source": [
    "# Pandas\n",
    "user_actions_pd_df = user_actions_pd_df.rename(\n",
    "    columns={\n",
    "        \"OnlineStore\": \"online_store\",\n",
    "        \"product\": \"product_id\",\n",
    "        \"Action type\": \"action_type\",\n",
    "        \"Action_time\": \"action_dt\",\n",
    "    }\n",
    ")\n",
    "user_actions_pd_df.columns"
   ]
  },
  {
   "cell_type": "code",
   "execution_count": null,
   "id": "aba9ad15",
   "metadata": {
    "vscode": {
     "languageId": "plaintext"
    }
   },
   "outputs": [],
   "source": [
    "# Polars\n",
    "user_actions_pl_df = user_actions_pl_df.rename(\n",
    "    {\n",
    "        \"OnlineStore\": \"online_store\",\n",
    "        \"product\": \"product_id\",\n",
    "        \"Action type\": \"action_type\",\n",
    "        \"Action_time\": \"action_dt\",\n",
    "    }\n",
    ")\n",
    "user_actions_pl_df.columns"
   ]
  },
  {
   "cell_type": "markdown",
   "id": "2eaf7cac",
   "metadata": {},
   "source": [
    "## 5. Changing Column types."
   ]
  },
  {
   "cell_type": "code",
   "execution_count": null,
   "id": "dec65734",
   "metadata": {
    "vscode": {
     "languageId": "plaintext"
    }
   },
   "outputs": [],
   "source": [
    "# Pandas\n",
    "user_actions_pd_df = user_actions_pd_df.astype({\"quantity\": \"Int64\"})"
   ]
  },
  {
   "cell_type": "code",
   "execution_count": null,
   "id": "ececc2fc-c8cf-4f61-9329-addfb8557b02",
   "metadata": {},
   "outputs": [],
   "source": [
    "user_actions_pd_df.info()"
   ]
  },
  {
   "cell_type": "code",
   "execution_count": null,
   "id": "57eb8de1",
   "metadata": {
    "vscode": {
     "languageId": "plaintext"
    }
   },
   "outputs": [],
   "source": [
    "# Polars\n",
    "user_actions_pl_df = user_actions_pl_df.cast({\"quantity\": pl.Int32})"
   ]
  },
  {
   "cell_type": "code",
   "execution_count": null,
   "id": "ee35bff8-3a08-4607-b789-90cf5cd8a776",
   "metadata": {},
   "outputs": [],
   "source": [
    "user_actions_pl_df.glimpse(max_items_per_column=0)"
   ]
  },
  {
   "cell_type": "code",
   "execution_count": null,
   "id": "33213e63",
   "metadata": {
    "vscode": {
     "languageId": "plaintext"
    }
   },
   "outputs": [],
   "source": [
    "user_actions_pl_df.estimated_size(\"mb\")"
   ]
  },
  {
   "cell_type": "markdown",
   "id": "c39b8b23",
   "metadata": {},
   "source": [
    "## 6. Filling Missing Values."
   ]
  },
  {
   "cell_type": "code",
   "execution_count": null,
   "id": "b38e2c98",
   "metadata": {
    "vscode": {
     "languageId": "plaintext"
    }
   },
   "outputs": [],
   "source": [
    "# Pandas\n",
    "user_actions_pd_df[\"quantity\"].fillna(0, inplace=True)"
   ]
  },
  {
   "cell_type": "code",
   "execution_count": null,
   "id": "48476e90",
   "metadata": {
    "vscode": {
     "languageId": "plaintext"
    }
   },
   "outputs": [],
   "source": [
    "user_actions_pd_df.info()"
   ]
  },
  {
   "cell_type": "code",
   "execution_count": null,
   "id": "d0ca74fe",
   "metadata": {
    "vscode": {
     "languageId": "plaintext"
    }
   },
   "outputs": [],
   "source": [
    "# Polars\n",
    "user_actions_pl_df = user_actions_pl_df.with_columns(pl.col(\"quantity\").fill_null(0))"
   ]
  },
  {
   "cell_type": "code",
   "execution_count": null,
   "id": "00d7dd77",
   "metadata": {
    "vscode": {
     "languageId": "plaintext"
    }
   },
   "outputs": [],
   "source": [
    "user_actions_pl_df.describe().filter(pl.col(\"statistic\").is_in([\"count\", \"null_count\"]))"
   ]
  },
  {
   "cell_type": "markdown",
   "id": "85be1c7c",
   "metadata": {},
   "source": [
    "## 7. Removing Missing Values."
   ]
  },
  {
   "cell_type": "code",
   "execution_count": null,
   "id": "e4cb4ace",
   "metadata": {
    "vscode": {
     "languageId": "plaintext"
    }
   },
   "outputs": [],
   "source": [
    "# Pandas\n",
    "user_actions_pd_df.dropna(subset=[\"product_id\"], inplace=True)"
   ]
  },
  {
   "cell_type": "code",
   "execution_count": null,
   "id": "dfc22f25",
   "metadata": {
    "vscode": {
     "languageId": "plaintext"
    }
   },
   "outputs": [],
   "source": [
    "user_actions_pd_df.info()"
   ]
  },
  {
   "cell_type": "code",
   "execution_count": null,
   "id": "1581c815",
   "metadata": {
    "vscode": {
     "languageId": "plaintext"
    }
   },
   "outputs": [],
   "source": [
    "# Polars\n",
    "user_actions_pl_df = user_actions_pl_df.drop_nulls(subset=[\"product_id\"])"
   ]
  },
  {
   "cell_type": "code",
   "execution_count": null,
   "id": "697349a6",
   "metadata": {
    "vscode": {
     "languageId": "plaintext"
    }
   },
   "outputs": [],
   "source": [
    "user_actions_pl_df.describe().filter(pl.col(\"statistic\").is_in([\"count\", \"null_count\"]))"
   ]
  },
  {
   "cell_type": "markdown",
   "id": "502951f7",
   "metadata": {},
   "source": [
    "## 8. Removing Duplicate Records."
   ]
  },
  {
   "cell_type": "code",
   "execution_count": null,
   "id": "d5feb162",
   "metadata": {
    "vscode": {
     "languageId": "plaintext"
    }
   },
   "outputs": [],
   "source": [
    "# Pandas\n",
    "user_actions_pd_df.drop_duplicates(\n",
    "    subset=[\"online_store\", \"action_type\", \"action_dt\"],\n",
    "    keep=\"last\",\n",
    "    inplace=True,\n",
    ")"
   ]
  },
  {
   "cell_type": "code",
   "execution_count": null,
   "id": "88de1397",
   "metadata": {
    "vscode": {
     "languageId": "plaintext"
    }
   },
   "outputs": [],
   "source": [
    "user_actions_pd_df.info()"
   ]
  },
  {
   "cell_type": "code",
   "execution_count": null,
   "id": "5b56f68f",
   "metadata": {
    "vscode": {
     "languageId": "plaintext"
    }
   },
   "outputs": [],
   "source": [
    "# Polars\n",
    "user_actions_pl_df = user_actions_pl_df.unique(\n",
    "    subset=[\"online_store\", \"action_type\", \"action_dt\"],\n",
    "    keep=\"last\",\n",
    ")"
   ]
  },
  {
   "cell_type": "code",
   "execution_count": null,
   "id": "785d0853",
   "metadata": {
    "vscode": {
     "languageId": "plaintext"
    }
   },
   "outputs": [],
   "source": [
    "user_actions_pl_df.describe().filter(pl.col(\"statistic\").is_in([\"count\", \"null_count\"]))"
   ]
  },
  {
   "cell_type": "markdown",
   "id": "9025146d",
   "metadata": {},
   "source": [
    "## 9. Filtering Data."
   ]
  },
  {
   "cell_type": "code",
   "execution_count": null,
   "id": "bd55d3bb",
   "metadata": {
    "vscode": {
     "languageId": "plaintext"
    }
   },
   "outputs": [],
   "source": [
    "# Pandas\n",
    "user_actions_pd_df = user_actions_pd_df.loc[\n",
    "    user_actions_pd_df[\"action_type\"] == \"purchase\"\n",
    "]"
   ]
  },
  {
   "cell_type": "code",
   "execution_count": null,
   "id": "f45c000d",
   "metadata": {
    "vscode": {
     "languageId": "plaintext"
    }
   },
   "outputs": [],
   "source": [
    "user_actions_pd_df.info()"
   ]
  },
  {
   "cell_type": "code",
   "execution_count": null,
   "id": "2bc29c0c",
   "metadata": {
    "vscode": {
     "languageId": "plaintext"
    }
   },
   "outputs": [],
   "source": [
    "# Polars\n",
    "user_actions_pl_df = user_actions_pl_df.filter(\n",
    "    pl.col(\"action_type\") == \"purchase\"\n",
    ")"
   ]
  },
  {
   "cell_type": "code",
   "execution_count": null,
   "id": "11e2cdb9",
   "metadata": {
    "vscode": {
     "languageId": "plaintext"
    }
   },
   "outputs": [],
   "source": [
    "user_actions_pl_df.describe().filter(pl.col(\"statistic\").is_in([\"count\", \"null_count\"]))"
   ]
  },
  {
   "cell_type": "markdown",
   "id": "8c948ccb",
   "metadata": {},
   "source": [
    "## 10. Selecting Required Columns."
   ]
  },
  {
   "cell_type": "code",
   "execution_count": null,
   "id": "34374018",
   "metadata": {
    "vscode": {
     "languageId": "plaintext"
    }
   },
   "outputs": [],
   "source": [
    "# Pandas\n",
    "user_actions_pd_df = user_actions_pd_df[\n",
    "    [\"online_store\", \"action_type\", \"product_id\", \"quantity\"]\n",
    "]"
   ]
  },
  {
   "cell_type": "code",
   "execution_count": null,
   "id": "4ef17fdb",
   "metadata": {
    "vscode": {
     "languageId": "plaintext"
    }
   },
   "outputs": [],
   "source": [
    "# Polars\n",
    "user_actions_pl_df = user_actions_pl_df.select(\n",
    "    \"online_store\", \"action_type\", \"product_id\", \"quantity\"\n",
    ")"
   ]
  },
  {
   "cell_type": "markdown",
   "id": "4661b3f3",
   "metadata": {},
   "source": [
    "## 11. Grouping Data."
   ]
  },
  {
   "cell_type": "code",
   "execution_count": null,
   "id": "3de19704",
   "metadata": {
    "vscode": {
     "languageId": "plaintext"
    }
   },
   "outputs": [],
   "source": [
    "# Pandas\n",
    "user_actions_pd_df = (\n",
    "    user_actions_pd_df.groupby([\"online_store\", \"product_id\", \"action_type\"])\n",
    "    .agg({\"quantity\": \"sum\"})\n",
    "    .reset_index()\n",
    ")\n",
    "user_actions_pd_df.sort_values(by=[\"online_store\", \"product_id\"])"
   ]
  },
  {
   "cell_type": "code",
   "execution_count": null,
   "id": "eb60daf1",
   "metadata": {
    "vscode": {
     "languageId": "plaintext"
    }
   },
   "outputs": [],
   "source": [
    "# Polars\n",
    "user_actions_pl_df = (\n",
    "    user_actions_pl_df.group_by([\"online_store\", \"product_id\", \"action_type\"])\n",
    "    .agg(pl.col(\"quantity\").sum())\n",
    ")\n",
    "user_actions_pl_df.sort([\"online_store\", \"product_id\"])"
   ]
  },
  {
   "cell_type": "markdown",
   "id": "91fb8c3c",
   "metadata": {},
   "source": [
    "## 12. Joining Data with Another DataFrame."
   ]
  },
  {
   "cell_type": "code",
   "execution_count": null,
   "id": "88b2e4a3",
   "metadata": {
    "vscode": {
     "languageId": "plaintext"
    }
   },
   "outputs": [],
   "source": [
    "# Pandas\n",
    "user_actions_pd_df = user_actions_pd_df.merge(product_catalog_pd_df, on='product_id')\n",
    "# Display result\n",
    "user_actions_pd_df.sort_values(by=[\"online_store\", \"product_id\"])"
   ]
  },
  {
   "cell_type": "code",
   "execution_count": null,
   "id": "835e14e9",
   "metadata": {
    "vscode": {
     "languageId": "plaintext"
    }
   },
   "outputs": [],
   "source": [
    "# Polars\n",
    "user_actions_pl_df = user_actions_pl_df.join(product_catalog_pl_df, on='product_id')\n",
    "# Display result\n",
    "user_actions_pl_df.sort([\"online_store\", \"product_id\"])"
   ]
  },
  {
   "cell_type": "markdown",
   "id": "4ee8a421",
   "metadata": {},
   "source": [
    "## 13. Calculating a New Column."
   ]
  },
  {
   "cell_type": "code",
   "execution_count": null,
   "id": "a661e74e",
   "metadata": {
    "vscode": {
     "languageId": "plaintext"
    }
   },
   "outputs": [],
   "source": [
    "# Pandas\n",
    "user_actions_pd_df[\"total\"] = (\n",
    "    user_actions_pd_df[\"price\"] * user_actions_pd_df[\"quantity\"]\n",
    ")\n",
    "user_actions_pd_df = user_actions_pd_df[\n",
    "    [\"online_store\", \"action_type\", \"total\"]\n",
    "]"
   ]
  },
  {
   "cell_type": "code",
   "execution_count": null,
   "id": "8421fabc",
   "metadata": {
    "vscode": {
     "languageId": "plaintext"
    }
   },
   "outputs": [],
   "source": [
    "# Polars\n",
    "user_actions_pl_df = user_actions_pl_df.with_columns(\n",
    "    (pl.col(\"price\") * pl.col(\"quantity\")).alias(\"total\")\n",
    ")\n",
    "user_actions_pl_df = user_actions_pl_df.select(\n",
    "    \"online_store\", \"action_type\", \"total\"\n",
    ")"
   ]
  },
  {
   "cell_type": "code",
   "execution_count": null,
   "id": "24c21f2d-7b29-4507-9e47-58120e12c6f7",
   "metadata": {},
   "outputs": [],
   "source": [
    "# Alternatively, you can calculate a new column \n",
    "# directly within the select() method:\n",
    "# user_actions_pl_df = user_actions_pl_df.select(\n",
    "#     \"online_store\",\n",
    "#     \"action_type\",\n",
    "#     (pl.col(\"price\") * pl.col(\"quantity\")).alias(\"total\"),\n",
    "# )"
   ]
  },
  {
   "cell_type": "markdown",
   "id": "b12713bb",
   "metadata": {},
   "source": [
    "## 14. Creating a Pivot Table."
   ]
  },
  {
   "cell_type": "code",
   "execution_count": null,
   "id": "eb9ffd7d",
   "metadata": {
    "vscode": {
     "languageId": "plaintext"
    }
   },
   "outputs": [],
   "source": [
    "# Pandas\n",
    "result_pd = user_actions_pd_df.pivot_table(\n",
    "    columns=\"online_store\",\n",
    "    index=\"action_type\",\n",
    "    values=\"total\",\n",
    "    aggfunc=\"sum\",\n",
    ")\n",
    "result_pd"
   ]
  },
  {
   "cell_type": "code",
   "execution_count": null,
   "id": "81a0192a",
   "metadata": {
    "vscode": {
     "languageId": "plaintext"
    }
   },
   "outputs": [],
   "source": [
    "# Polars\n",
    "result_pl = user_actions_pl_df.pivot(\n",
    "    columns=\"online_store\",\n",
    "    index=\"action_type\",\n",
    "    values=\"total\",\n",
    "    aggregate_function=\"sum\",\n",
    "    sort_columns=True\n",
    ")\n",
    "result_pl"
   ]
  }
 ],
 "metadata": {
  "kernelspec": {
   "display_name": "Python 3 (ipykernel)",
   "language": "python",
   "name": "python3"
  },
  "language_info": {
   "codemirror_mode": {
    "name": "ipython",
    "version": 3
   },
   "file_extension": ".py",
   "mimetype": "text/x-python",
   "name": "python",
   "nbconvert_exporter": "python",
   "pygments_lexer": "ipython3",
   "version": "3.11.6"
  }
 },
 "nbformat": 4,
 "nbformat_minor": 5
}
