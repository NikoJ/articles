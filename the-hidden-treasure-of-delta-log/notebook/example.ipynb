{
 "cells": [
  {
   "cell_type": "markdown",
   "id": "7fb6009b",
   "metadata": {
    "vscode": {
     "languageId": "plaintext"
    }
   },
   "source": [
    "# Jupyter Notebook: [The Hidden Treasure of _delta_logֲֲֲֲ.](https://blog.devgenius.io/the-hidden-treasure-of-delta-log-482684efb36b)"
   ]
  },
  {
   "cell_type": "markdown",
   "id": "d4010909",
   "metadata": {},
   "source": [
    "## Setup and Imports."
   ]
  },
  {
   "cell_type": "code",
   "execution_count": null,
   "id": "3fe56ddb",
   "metadata": {
    "vscode": {
     "languageId": "plaintext"
    }
   },
   "outputs": [],
   "source": [
    "import time\n",
    "import polars as pl\n",
    "from deltalake import DeltaTable"
   ]
  },
  {
   "cell_type": "markdown",
   "id": "df5338fe",
   "metadata": {},
   "source": [
    "## Data Preparation and DataFrame Creation."
   ]
  },
  {
   "cell_type": "code",
   "execution_count": null,
   "id": "e99e2f28",
   "metadata": {
    "vscode": {
     "languageId": "plaintext"
    }
   },
   "outputs": [],
   "source": [
    "table_path = './deltalake/test_table'\n",
    "table_part_path = './deltalake/test_table_part'\n",
    "delta_write_options = {\"partition_by\": [\"client\"]}\n",
    "\n",
    "test_data_1 = {\n",
    "    'id' : ['xxx1', 'xxx2', 'xxx3', 'xxx4'],\n",
    "    'client' : ['0001', '0001', '0002', '0002'],\n",
    "    'item' : ['paper', 'ball','pen','pen'],\n",
    "    'price': [5, 1, 2, 2]\n",
    "}\n",
    "\n",
    "test_data_2 = {\n",
    "    'id' : ['xxx1', 'xxx2', 'xxx3', 'xxx4'],\n",
    "    'client' : ['0001', '0001', '0002', '0003'],\n",
    "    'item' : ['paper', 'ball','pen','pen'],\n",
    "    'price': [5, 1, 2, 2]\n",
    "}\n",
    "\n",
    "test_data_3 = {\n",
    "    'id' : ['xxx4'],\n",
    "    'client' : ['0003'],\n",
    "    'item' : ['paper'],\n",
    "    'price': [5]\n",
    "}\n",
    "\n",
    "test_data_4 = {\n",
    "    'id' : ['xxx1',],\n",
    "    'client' : ['0001'],\n",
    "    'item' : ['paper'],\n",
    "    'price': [6]\n",
    "}\n",
    "\n",
    "df_1 = pl.DataFrame(test_data_1)\n",
    "df_2 = pl.DataFrame(test_data_2)\n",
    "df_3 = pl.DataFrame(test_data_3)\n",
    "df_4 = pl.DataFrame(test_data_4)"
   ]
  },
  {
   "cell_type": "markdown",
   "id": "8e94baf5",
   "metadata": {},
   "source": [
    "## Writes DataFrames to Delta Lake."
   ]
  },
  {
   "cell_type": "code",
   "execution_count": null,
   "id": "c49fd3cf",
   "metadata": {
    "vscode": {
     "languageId": "plaintext"
    }
   },
   "outputs": [],
   "source": [
    "time_sleep_seconds:int = 60\n",
    "\n",
    "df_1.write_delta(\n",
    "    target=table_path,\n",
    "    mode=\"append\",\n",
    ")\n",
    "\n",
    "df_1.write_delta(\n",
    "    target=table_part_path,\n",
    "    delta_write_options=delta_write_options,\n",
    "    mode=\"append\",\n",
    ")\n",
    "\n",
    "time.sleep(time_sleep_seconds)\n",
    "\n",
    "df_2.write_delta(\n",
    "    target=table_path,\n",
    "    mode=\"overwrite\",\n",
    ")\n",
    "\n",
    "df_2.write_delta(\n",
    "    target=table_part_path,\n",
    "    mode=\"overwrite\",\n",
    ")\n",
    "\n",
    "time.sleep(time_sleep_seconds)\n",
    "\n",
    "df_3.write_delta(\n",
    "    target=table_path,\n",
    "    mode='merge',\n",
    "    delta_merge_options={\n",
    "        'predicate': 'src.id = trg.id',\n",
    "        'source_alias': 'src',\n",
    "        'target_alias': 'trg',\n",
    "    },\n",
    ") \\\n",
    ".when_matched_update_all() \\\n",
    ".execute()\n",
    "\n",
    "df_3.write_delta(\n",
    "    target=table_part_path,\n",
    "    mode='merge',\n",
    "    delta_merge_options={\n",
    "        'predicate': 'src.id = trg.id',\n",
    "        'source_alias': 'src',\n",
    "        'target_alias': 'trg',\n",
    "    },\n",
    ") \\\n",
    ".when_matched_update_all() \\\n",
    ".execute()\n",
    "\n",
    "time.sleep(time_sleep_seconds)\n",
    "\n",
    "df_4.write_delta(\n",
    "    target=table_path,\n",
    "    mode='merge',\n",
    "    delta_merge_options={\n",
    "        'predicate': 'src.id = trg.id',\n",
    "        'source_alias': 'src',\n",
    "        'target_alias': 'trg',\n",
    "    },\n",
    ") \\\n",
    ".when_matched_update_all() \\\n",
    ".execute()\n",
    "\n",
    "df_4.write_delta(\n",
    "    target=table_part_path,\n",
    "    mode='merge',\n",
    "    delta_merge_options={\n",
    "        'predicate': 'src.id = trg.id',\n",
    "        'source_alias': 'src',\n",
    "        'target_alias': 'trg',\n",
    "    },\n",
    ") \\\n",
    ".when_matched_update_all() \\\n",
    ".execute()"
   ]
  },
  {
   "cell_type": "markdown",
   "id": "e8dd868a",
   "metadata": {
    "vscode": {
     "languageId": "plaintext"
    }
   },
   "source": [
    "## Inspects a _delta_log."
   ]
  },
  {
   "cell_type": "code",
   "execution_count": null,
   "id": "d7281d4b-9fa2-4ed6-9a52-24be389e7ec1",
   "metadata": {},
   "outputs": [],
   "source": [
    "!cat ./deltalake/test_table/_delta_log/00000000000000000000.json | jq ."
   ]
  },
  {
   "cell_type": "markdown",
   "id": "86aba837",
   "metadata": {},
   "source": [
    "## Retrieves a dataframe with all current add actions without partitions."
   ]
  },
  {
   "cell_type": "code",
   "execution_count": null,
   "id": "32e422df",
   "metadata": {
    "vscode": {
     "languageId": "plaintext"
    }
   },
   "outputs": [],
   "source": [
    "dt: DeltaTable = DeltaTable(table_path)\n",
    "actions = dt.get_add_actions() # pyarrow.lib.RecordBatch\n",
    "df: pl.DataFrame = pl.from_arrow(actions)\n",
    "df"
   ]
  },
  {
   "cell_type": "markdown",
   "id": "66349b41",
   "metadata": {},
   "source": [
    "## Retrieves a dataframe with all current add actions with partitions."
   ]
  },
  {
   "cell_type": "code",
   "execution_count": null,
   "id": "c31b5ece",
   "metadata": {
    "vscode": {
     "languageId": "plaintext"
    }
   },
   "outputs": [],
   "source": [
    "dt_part: DeltaTable = DeltaTable(table_part_path)\n",
    "df_part: pl.DataFrame = pl.from_arrow(dt_part.get_add_actions())\n",
    "df_part"
   ]
  },
  {
   "cell_type": "markdown",
   "id": "4bfc8f69",
   "metadata": {},
   "source": [
    "## Gets all add actions for all time from a delta table."
   ]
  },
  {
   "cell_type": "code",
   "execution_count": null,
   "id": "6a34e63c",
   "metadata": {
    "vscode": {
     "languageId": "plaintext"
    }
   },
   "outputs": [],
   "source": [
    "dt_version: int = 0 if dt.version() == 0 else dt.version() + 1\n",
    "df_vers: pl.DataFrame = pl.concat(\n",
    "    [\n",
    "        pl.from_arrow(\n",
    "            DeltaTable(table_path, version=v).get_add_actions(flatten=True)\n",
    "        )\n",
    "        for v in range(0, dt_version)\n",
    "    ]\n",
    ").unique().sort(\"modification_time\")\n",
    "df_vers"
   ]
  }
 ],
 "metadata": {
  "kernelspec": {
   "display_name": "Python 3 (ipykernel)",
   "language": "python",
   "name": "python3"
  },
  "language_info": {
   "codemirror_mode": {
    "name": "ipython",
    "version": 3
   },
   "file_extension": ".py",
   "mimetype": "text/x-python",
   "name": "python",
   "nbconvert_exporter": "python",
   "pygments_lexer": "ipython3",
   "version": "3.11.6"
  }
 },
 "nbformat": 4,
 "nbformat_minor": 5
}
