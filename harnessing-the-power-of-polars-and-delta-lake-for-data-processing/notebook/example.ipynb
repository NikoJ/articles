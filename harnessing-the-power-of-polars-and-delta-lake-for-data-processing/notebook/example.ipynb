{
 "cells": [
  {
   "cell_type": "markdown",
   "id": "7f4656d7",
   "metadata": {
    "vscode": {
     "languageId": "plaintext"
    }
   },
   "source": [
    "# Jupyter Notebook: [Harnessing the Power of Polars and Delta Lake for Data Processingֲ.](https://blog.devgenius.io/harnessing-the-power-of-polars-and-delta-lake-for-data-processing-2d285ccfbef7)"
   ]
  },
  {
   "cell_type": "markdown",
   "id": "ef2c6ffc",
   "metadata": {},
   "source": [
    "## Setup and Imports."
   ]
  },
  {
   "cell_type": "code",
   "execution_count": null,
   "id": "37054950",
   "metadata": {
    "vscode": {
     "languageId": "plaintext"
    }
   },
   "outputs": [],
   "source": [
    "import polars as pl\n",
    "from deltalake import DeltaTable, WriterProperties"
   ]
  },
  {
   "cell_type": "markdown",
   "id": "0d4ce8b0",
   "metadata": {},
   "source": [
    "## Data Preparation and DataFrame Creation."
   ]
  },
  {
   "cell_type": "code",
   "execution_count": null,
   "id": "817b2cce",
   "metadata": {
    "vscode": {
     "languageId": "plaintext"
    }
   },
   "outputs": [],
   "source": [
    "target_path = \"./dl_example\"\n",
    "\n",
    "data = {\n",
    "    \"id\": [\"0001\", \"0002\", \"0003\"],\n",
    "    \"col1\": [\"a\", \"b\", \"c\"],\n",
    "    \"col2\": [True, True, False],\n",
    "    \"col3\": [1, 2, 3],\n",
    "}\n",
    "df = pl.DataFrame(data)\n",
    "\n",
    "data_for_append = {\n",
    "    \"id\": [\"0004\"],\n",
    "    \"col1\": [\"d\"],\n",
    "    \"col2\": [True],\n",
    "    \"col3\": [4],\n",
    "}\n",
    "df_for_append = pl.DataFrame(data_for_append)\n",
    "\n",
    "data_for_overwrite = {\n",
    "    \"id\": [\"0004\", \"0004\"],\n",
    "    \"col1\": [\"dd\", \"ddd\"],\n",
    "    \"col2\": [True, True],\n",
    "    \"col3\": [4, 40],\n",
    "}\n",
    "df_for_overwrite = pl.DataFrame(data_for_overwrite)\n",
    "\n",
    "data_merge = {\n",
    "    \"id\": [\"0003\", \"0005\"],\n",
    "    \"col1\": [\"cc\", \"e\"],\n",
    "    \"col2\": [True, True],\n",
    "    \"col3\": [33, 5],\n",
    "}\n",
    "df_merge = pl.DataFrame(data_merge)"
   ]
  },
  {
   "cell_type": "markdown",
   "id": "1b7cc4e9",
   "metadata": {},
   "source": [
    "## Writing Data to Delta Lake."
   ]
  },
  {
   "cell_type": "code",
   "execution_count": null,
   "id": "a5de8ea6",
   "metadata": {
    "vscode": {
     "languageId": "plaintext"
    }
   },
   "outputs": [],
   "source": [
    "df.write_delta(\n",
    "    target=target_path,\n",
    "    delta_write_options={\"partition_by\": [\"id\"]},\n",
    "    mode=\"append\",\n",
    ")"
   ]
  },
  {
   "cell_type": "code",
   "execution_count": null,
   "id": "c6273953",
   "metadata": {
    "vscode": {
     "languageId": "plaintext"
    }
   },
   "outputs": [],
   "source": [
    "!tree ./dl_example"
   ]
  },
  {
   "cell_type": "code",
   "execution_count": null,
   "id": "2a49a653",
   "metadata": {
    "vscode": {
     "languageId": "plaintext"
    }
   },
   "outputs": [],
   "source": [
    "df_for_append.write_delta(\n",
    "    target=target_path,\n",
    "    mode=\"append\",\n",
    ")"
   ]
  },
  {
   "cell_type": "code",
   "execution_count": null,
   "id": "5b22b1c9",
   "metadata": {
    "vscode": {
     "languageId": "plaintext"
    }
   },
   "outputs": [],
   "source": [
    "!tree ./dl_example"
   ]
  },
  {
   "cell_type": "markdown",
   "id": "331ec001",
   "metadata": {},
   "source": [
    "## Overwrite."
   ]
  },
  {
   "cell_type": "code",
   "execution_count": null,
   "id": "d92881db",
   "metadata": {
    "vscode": {
     "languageId": "plaintext"
    }
   },
   "outputs": [],
   "source": [
    "df_for_overwrite.write_delta(\n",
    "    target=target_path,\n",
    "    delta_write_options={\"partition_filters\": [(\"id\", \"=\", \"0004\")]},\n",
    "    mode=\"overwrite\",\n",
    ")"
   ]
  },
  {
   "cell_type": "code",
   "execution_count": null,
   "id": "dd9b0bc2",
   "metadata": {
    "vscode": {
     "languageId": "plaintext"
    }
   },
   "outputs": [],
   "source": [
    "pl.read_delta(target_path)"
   ]
  },
  {
   "cell_type": "markdown",
   "id": "6c03e2c7",
   "metadata": {},
   "source": [
    "## Merge."
   ]
  },
  {
   "cell_type": "code",
   "execution_count": null,
   "id": "84b37d87",
   "metadata": {
    "vscode": {
     "languageId": "plaintext"
    }
   },
   "outputs": [],
   "source": [
    "(\n",
    "    df_merge.write_delta(\n",
    "        target=target_path,\n",
    "        mode=\"merge\",\n",
    "        delta_merge_options={\n",
    "            \"predicate\": \"src.id = trg.id\",\n",
    "            \"source_alias\": \"src\",\n",
    "            \"target_alias\": \"trg\",\n",
    "        },\n",
    "    )\n",
    "    .when_matched_update_all()\n",
    "    .when_not_matched_insert_all()\n",
    "    .execute()\n",
    ")"
   ]
  },
  {
   "cell_type": "code",
   "execution_count": null,
   "id": "9c138686",
   "metadata": {
    "vscode": {
     "languageId": "plaintext"
    }
   },
   "outputs": [],
   "source": [
    "pl.read_delta(target_path)"
   ]
  },
  {
   "cell_type": "markdown",
   "id": "a7d769f2",
   "metadata": {},
   "source": [
    "## Reading Delta Tables."
   ]
  },
  {
   "cell_type": "code",
   "execution_count": null,
   "id": "d7fb72e6",
   "metadata": {
    "vscode": {
     "languageId": "plaintext"
    }
   },
   "outputs": [],
   "source": [
    "pl.read_delta(target_path, version=0)"
   ]
  },
  {
   "cell_type": "code",
   "execution_count": null,
   "id": "4952f0c3",
   "metadata": {
    "vscode": {
     "languageId": "plaintext"
    }
   },
   "outputs": [],
   "source": [
    "pl.read_delta(target_path, columns=[\"id\"])"
   ]
  },
  {
   "cell_type": "code",
   "execution_count": null,
   "id": "759c5901",
   "metadata": {
    "vscode": {
     "languageId": "plaintext"
    }
   },
   "outputs": [],
   "source": [
    "pl.read_delta(target_path, pyarrow_options={\"partitions\": [(\"id\", \"=\", \"0001\")]})\n"
   ]
  },
  {
   "cell_type": "markdown",
   "id": "583d4e9d",
   "metadata": {},
   "source": [
    "## Metadata and History."
   ]
  },
  {
   "cell_type": "code",
   "execution_count": null,
   "id": "3a557e23",
   "metadata": {
    "vscode": {
     "languageId": "plaintext"
    }
   },
   "outputs": [],
   "source": [
    "dt = DeltaTable(target_path)"
   ]
  },
  {
   "cell_type": "code",
   "execution_count": null,
   "id": "be3bc816",
   "metadata": {
    "vscode": {
     "languageId": "plaintext"
    }
   },
   "outputs": [],
   "source": [
    "dt.metadata()"
   ]
  },
  {
   "cell_type": "code",
   "execution_count": null,
   "id": "e770ae64",
   "metadata": {
    "vscode": {
     "languageId": "plaintext"
    }
   },
   "outputs": [],
   "source": [
    "dt.version()"
   ]
  },
  {
   "cell_type": "code",
   "execution_count": null,
   "id": "723bafa1",
   "metadata": {
    "vscode": {
     "languageId": "plaintext"
    }
   },
   "outputs": [],
   "source": [
    "dt.schema()"
   ]
  },
  {
   "cell_type": "code",
   "execution_count": null,
   "id": "7adb8fd5",
   "metadata": {
    "vscode": {
     "languageId": "plaintext"
    }
   },
   "outputs": [],
   "source": [
    "dt.schema().to_pyarrow()"
   ]
  },
  {
   "cell_type": "code",
   "execution_count": null,
   "id": "d178f9ba",
   "metadata": {
    "vscode": {
     "languageId": "plaintext"
    }
   },
   "outputs": [],
   "source": [
    "dt.history()"
   ]
  }
 ],
 "metadata": {
  "kernelspec": {
   "display_name": "Python 3 (ipykernel)",
   "language": "python",
   "name": "python3"
  },
  "language_info": {
   "codemirror_mode": {
    "name": "ipython",
    "version": 3
   },
   "file_extension": ".py",
   "mimetype": "text/x-python",
   "name": "python",
   "nbconvert_exporter": "python",
   "pygments_lexer": "ipython3",
   "version": "3.11.6"
  }
 },
 "nbformat": 4,
 "nbformat_minor": 5
}
