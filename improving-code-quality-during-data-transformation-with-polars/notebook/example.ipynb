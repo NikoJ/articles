{
 "cells": [
  {
   "cell_type": "markdown",
   "id": "2de7c601",
   "metadata": {
    "vscode": {
     "languageId": "plaintext"
    }
   },
   "source": [
    "# Jupyter Notebook: [Improving Code Quality During Data Transformation with Polars.](https://medium.com/data-science/improving-code-quality-during-data-transformation-with-polars-92997e67c8a9)"
   ]
  },
  {
   "cell_type": "markdown",
   "id": "355234e5",
   "metadata": {
    "vscode": {
     "languageId": "plaintext"
    }
   },
   "source": [
    "## Setup and Imports."
   ]
  },
  {
   "cell_type": "code",
   "execution_count": null,
   "id": "20fb8f83",
   "metadata": {
    "vscode": {
     "languageId": "plaintext"
    }
   },
   "outputs": [],
   "source": [
    "from dataclasses import dataclass\n",
    "from datetime import datetime, timedelta\n",
    "from random import choice, gauss, randrange, seed\n",
    "from typing import Any, Dict\n",
    "\n",
    "import polars as pl\n",
    "\n",
    "seed(42)"
   ]
  },
  {
   "cell_type": "markdown",
   "id": "b9b7313b",
   "metadata": {
    "vscode": {
     "languageId": "plaintext"
    }
   },
   "source": [
    "## Data Preparation and DataFrame Creation."
   ]
  },
  {
   "cell_type": "code",
   "execution_count": null,
   "id": "8c84b648",
   "metadata": {
    "vscode": {
     "languageId": "plaintext"
    }
   },
   "outputs": [],
   "source": [
    "\n",
    "base_time= datetime(2024, 8, 9, 0, 0, 0, 0)\n",
    "\n",
    "user_actions_data = [\n",
    "    {\n",
    "        \"user_id\": randrange(10),\n",
    "        \"product_id\": choice([\"0001\", \"0002\", \"0003\"]),\n",
    "        \"action_type\": (\"purchase\" if gauss() > 0.6 else \"view\"),\n",
    "        \"action_dt\": base_time - timedelta(minutes=randrange(100_000)),\n",
    "    }\n",
    "    for x in range(100_000)\n",
    "]\n",
    "user_actions_df = pl.DataFrame(user_actions_data)\n",
    "\n",
    "product_catalog_data = {\"product_id\": [\"0001\", \"0002\", \"0003\"], \"price\": [10, 30, 70]}\n",
    "product_catalog_df = pl.DataFrame(product_catalog_data)"
   ]
  },
  {
   "cell_type": "code",
   "execution_count": null,
   "id": "90739662",
   "metadata": {
    "vscode": {
     "languageId": "plaintext"
    }
   },
   "outputs": [],
   "source": [
    "## Main Logic"
   ]
  },
  {
   "cell_type": "code",
   "execution_count": null,
   "id": "c4983b2c",
   "metadata": {
    "vscode": {
     "languageId": "plaintext"
    }
   },
   "outputs": [],
   "source": [
    "@dataclass\n",
    "class DailyUserPurchaseReport:\n",
    "    \"\"\"\n",
    "    Generates a report containing the total purchase amount and the ratio of purchased items\n",
    "    to viewed items from the previous day for each user.\n",
    "\n",
    "    Attributes:\n",
    "        sources (Dict[str, pl.LazyFrame]): A dictionary containing the data sources, including:\n",
    "            - 'user_actions': A LazyFrame containing user actions data.\n",
    "            - 'product_catalog': A LazyFrame containing product catalog data.\n",
    "        params (Dict[str, Any]): A dictionary containing parameters, including:\n",
    "            - 'report_date': The date for which the report should be generated (previous day).\n",
    "    \"\"\"\n",
    "\n",
    "    sources: Dict[str, pl.LazyFrame]\n",
    "    params: Dict[str, Any]\n",
    "\n",
    "    def _filter_actions_by_date(self, frame: pl.LazyFrame) -> pl.LazyFrame:\n",
    "        \"\"\"\n",
    "         Filters user actions data to include only records from the specified date.\n",
    "\n",
    "        Args:\n",
    "            frame (pl.LazyFrame): A LazyFrame containing user actions data.\n",
    "\n",
    "        Returns:\n",
    "            pl.LazyFrame: A LazyFrame containing user actions data filtered by the specified date.\n",
    "        \"\"\"\n",
    "        return frame.filter(pl.col(\"action_dt\").dt.date() == self.params[\"report_date\"])\n",
    "\n",
    "    def _enrich_user_actions_from_product_catalog(\n",
    "        self, frame: pl.LazyFrame\n",
    "    ) -> pl.LazyFrame:\n",
    "        \"\"\"\n",
    "        Joins the user actions data with the product catalog to include product prices.\n",
    "\n",
    "        Args:\n",
    "            frame (pl.LazyFrame): A LazyFrame containing user actions data.\n",
    "\n",
    "        Returns:\n",
    "            pl.LazyFrame: A LazyFrame containing user actions data enriched with product prices.\n",
    "        \"\"\"\n",
    "        return frame.join(self.sources[\"product_catalog\"], on=\"product_id\")\n",
    "\n",
    "    def _calculate_key_metrics(self, frame: pl.LazyFrame) -> pl.LazyFrame:\n",
    "        \"\"\"\n",
    "        Calculates the total purchase amount and the ratio of purchased items to viewed items.\n",
    "\n",
    "        Args:\n",
    "            frame (pl.LazyFrame): A LazyFrame containing enriched user actions data.\n",
    "\n",
    "        Returns:\n",
    "            pl.LazyFrame: A LazyFrame containing the total purchase amount and purchase-to-view ratio for each user.\n",
    "        \n",
    "        \"\"\"\n",
    "        return (\n",
    "            frame.group_by(pl.col(\"user_id\"))\n",
    "            .agg(\n",
    "                [\n",
    "                    (\n",
    "                        pl.col(\"price\")\n",
    "                        .filter(pl.col(\"action_type\") == \"purchase\")\n",
    "                        .sum()\n",
    "                    ).alias(\"total_purchase_amount\"),\n",
    "                    (\n",
    "                        pl.col(\"product_id\")\n",
    "                        .filter(pl.col(\"action_type\") == \"purchase\")\n",
    "                        .len()\n",
    "                        / pl.col(\"product_id\").filter(pl.col(\"action_type\") == \"view\").len()\n",
    "                    ).alias(\"purchase_to_view_ratio\"),\n",
    "                ]\n",
    "            )\n",
    "            .sort(\"user_id\")\n",
    "        )\n",
    "\n",
    "    def execute(self) -> pl.DataFrame:\n",
    "        \"\"\"\n",
    "        Executes the report generation process.\n",
    "\n",
    "        This method performs the following steps:\n",
    "            1. Filters user actions data to include only records from the previous day.\n",
    "            2. Joins the filtered user actions data with the product catalog.\n",
    "            3. Calculates the total purchase amount and purchase-to-view ratio for each user.\n",
    "            4. Returns the final report as a DataFrame.\n",
    "\n",
    "        Returns:\n",
    "            pl.DataFrame: A DataFrame containing the total purchase amount and purchase-to-view ratio for each user.\n",
    "        \"\"\"\n",
    "        result: pl.DataFrame = (\n",
    "            self.sources[\"user_actions\"]\n",
    "            .pipe(self._filter_actions_by_date)\n",
    "            .pipe(self._enrich_user_actions_from_product_catalog)\n",
    "            .pipe(self._calculate_key_metrics)\n",
    "            .collect()\n",
    "        )\n",
    "        return result"
   ]
  },
  {
   "cell_type": "markdown",
   "id": "2fdb5901",
   "metadata": {},
   "source": [
    "## Example:"
   ]
  },
  {
   "cell_type": "code",
   "execution_count": null,
   "id": "ec096b78",
   "metadata": {
    "vscode": {
     "languageId": "plaintext"
    }
   },
   "outputs": [],
   "source": [
    "# prepare sources\n",
    "user_actions: pl.LazyFrame = user_actions_df.lazy()\n",
    "product_catalog: pl.LazyFrame = product_catalog_df.lazy()\n",
    "\n",
    "# get report date\n",
    "yesterday: datetime = base_time - timedelta(days=1)\n",
    "\n",
    "# report calculation\n",
    "df: pl.DataFrame = DailyUserPurchaseReport(\n",
    "    sources={\"user_actions\": user_actions, \"product_catalog\": product_catalog},\n",
    "    params={\"report_date\": yesterday},\n",
    ").execute()\n",
    "df"
   ]
  }
 ],
 "metadata": {
  "kernelspec": {
   "display_name": "Python 3 (ipykernel)",
   "language": "python",
   "name": "python3"
  },
  "language_info": {
   "codemirror_mode": {
    "name": "ipython",
    "version": 3
   },
   "file_extension": ".py",
   "mimetype": "text/x-python",
   "name": "python",
   "nbconvert_exporter": "python",
   "pygments_lexer": "ipython3",
   "version": "3.11.6"
  }
 },
 "nbformat": 4,
 "nbformat_minor": 5
}
